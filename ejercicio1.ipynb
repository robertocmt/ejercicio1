{
 "cells": [
  {
   "cell_type": "code",
   "execution_count": 2,
   "metadata": {},
   "outputs": [],
   "source": [
    "from random import randint\n",
    "from faker import Faker\n",
    "import pandas as pd\n",
    "import matplotlib.pyplot as plt\n",
    "import seaborn as sns"
   ]
  },
  {
   "cell_type": "code",
   "execution_count": 20,
   "metadata": {},
   "outputs": [],
   "source": [
    "class BaseDatos:\n",
    "    def base(self):\n",
    "        global df\n",
    "        fake = Faker('es_ES')\n",
    "        df = pd.DataFrame(\n",
    "        columns = ('Nombre','Apellidos','Email','Telefono', 'Direccion')\n",
    "        )\n",
    "        aleatorio = randint(25,50)\n",
    "        for i in range(aleatorio):\n",
    "            stuff = [fake.first_name()\n",
    "                    , fake.last_name()\n",
    "                    , fake.email()\n",
    "                    , fake.phone_number()\n",
    "                    , fake.street_name()]\n",
    "            df.loc[i] = [item for item in stuff]"
   ]
  },
  {
   "cell_type": "code",
   "execution_count": 21,
   "metadata": {
    "scrolled": true
   },
   "outputs": [
    {
     "name": "stdout",
     "output_type": "stream",
     "text": [
      "       Nombre    Apellidos                                  Email  \\\n",
      "0   Jose Luis        Álamo          juanaruano@ortega-carmona.com   \n",
      "1      Alvaro     Granados                 remedios50@almansa.net   \n",
      "2       Jordi      Tejedor                tomasfuster@antunez.org   \n",
      "3     Domingo       Alemán                       yhoyos@yahoo.com   \n",
      "4       Celia        Camps            jose-luis63@vives-llano.org   \n",
      "5        Anna      Morillo               smateos@vara-barroso.com   \n",
      "6    Mercedes      Arregui     echevarriaelisa@ramirez-marino.com   \n",
      "7     Antonia   Montenegro               martingregorio@gmail.com   \n",
      "8      Felipe       Martín                    luzsans@hotmail.com   \n",
      "9       Celia         Losa             gloriatorrijos@canovas.com   \n",
      "10    Mariano         Leal                   gloria81@hotmail.com   \n",
      "11   Cristina       Miguel              carvajalmariano@yahoo.com   \n",
      "12    Ángeles        Luque                    gloria46@gibert.net   \n",
      "13   Santiago      Villena               nereaestevez@hotmail.com   \n",
      "14      Aitor       Carlos                  salajesus@hotmail.com   \n",
      "15       Anna      Almazán                    marcosara@yahoo.com   \n",
      "16   Josefina       Priego                  juanhuertas@gmail.com   \n",
      "17     Carlos       Franco                francisco19@hotmail.com   \n",
      "18   Fernando         Jove              alba89@galvez-mayoral.net   \n",
      "19    Adriana        Cases                belenamoros@aviles.info   \n",
      "20       Joan  Ballesteros             dzabala@sierra-cabrera.net   \n",
      "21  Alejandro     Castelló             moracarlos@anton-yuste.org   \n",
      "22    Eugenia        Tormo                  eduardo43@hotmail.com   \n",
      "23    Roberto      Borrego                   uvilalta@hotmail.com   \n",
      "24       Hugo        Cerdá                     nieves50@yahoo.com   \n",
      "25   Fernando      Gallego            badiamiguel-angel@gmail.com   \n",
      "26        Mar        Hoyos              jaumemercedes@hotmail.com   \n",
      "27     Mireia       Borrás                     kuribe@segarra.com   \n",
      "28  Francisca       Barrio           francisco-jose17@alonso.info   \n",
      "29     Javier       Palmer  llorensjuan-luis@figueras-uriarte.com   \n",
      "30   Josefina      Córdoba           infantefrancisca@hotmail.com   \n",
      "31  Esperanza       Campos                     tpujadas@yahoo.com   \n",
      "32     Blanca      Herranz       javierroyo@calderon-carvajal.net   \n",
      "33      Nerea        Pavón          figuerolacristina@hotmail.com   \n",
      "34     Raquel          Ros                  torremarina@gmail.com   \n",
      "\n",
      "            Telefono                    Direccion  \n",
      "0      +34 029561472        Cañada de Jose Cuervo  \n",
      "1      +34 438055943    Paseo de Jose Ramon Ángel  \n",
      "2    +34 685 561 341         Paseo Gabriel Garcés  \n",
      "3    +34582 14 77 85         Ronda Julian Noriega  \n",
      "4     +34500 400 002        Plaza de Manuela Sanz  \n",
      "5       +34849048495   Plaza Inmaculada Velázquez  \n",
      "6   +34 275 45 63 47      Cañada de Eugenia Plaza  \n",
      "7      +34 753940100    Callejón de Aurora Blanco  \n",
      "8     +34987 061 446   Pasaje de Eugenia Llorente  \n",
      "9       +34351526026         Vial Gonzalo Reguera  \n",
      "10   +34 754 199 023    Ronda de Alejandra Osorio  \n",
      "11      +34212402987       Paseo Francisca Larrea  \n",
      "12  +34 514 10 87 19           C. de Adriana Maza  \n",
      "13  +34 062 58 15 08         Cuesta Adrián Millán  \n",
      "14   +34 767 307 218     Pasadizo de Óscar Zamora  \n",
      "15   +34894 82 14 66    Pasadizo Alejandro Lucena  \n",
      "16     +34 586746796      Rambla de Belen Collado  \n",
      "17  +34 419 92 72 12     Calle de Francisca Tapia  \n",
      "18   +34 630 464 913          C. de Nerea Narváez  \n",
      "19      +34710692555  Paseo de Juan Manuel Priego  \n",
      "20     +34 560173163           Camino Antonia Bou  \n",
      "21      +34200859891     Cañada de Trinidad Ponce  \n",
      "22     +34 635415880       Camino Martin Bautista  \n",
      "23   +34262 44 76 97         Glorieta Gloria Royo  \n",
      "24     +34 631251919     Ronda de Alberto Beltran  \n",
      "25     +34 820166662   Glorieta de Daniela Avilés  \n",
      "26      +34608358291            C. de Vicenta Bou  \n",
      "27   +34923 76 10 82       Cañada de Rosario Puga  \n",
      "28      +34438165936   Camino de Mercedes Garrido  \n",
      "29   +34548 18 71 50       Pasaje de Sonia Cortés  \n",
      "30      +34328944653           C. de Noelia Luján  \n",
      "31    +34268 463 599  Glorieta de Alfonso Artigas  \n",
      "32  +34 596 65 69 95   Glorieta Juan José Aguilar  \n",
      "33   +34954 11 23 32      Plaza de Angela Salgado  \n",
      "34      +34106525742   Glorieta de Pablo Castejón  \n"
     ]
    }
   ],
   "source": [
    "dataframe = BaseDatos()\n",
    "dataframe.base()\n",
    "print(df)"
   ]
  },
  {
   "cell_type": "code",
   "execution_count": 44,
   "metadata": {},
   "outputs": [
    {
     "data": {
      "text/plain": [
       "<matplotlib.axes._subplots.AxesSubplot at 0x7efeef77b278>"
      ]
     },
     "execution_count": 44,
     "metadata": {},
     "output_type": "execute_result"
    },
    {
     "data": {
      "image/png": "[encoded data removed]",
      "text/plain": [
       "<Figure size 432x288 with 1 Axes>"
      ]
     },
     "metadata": {
      "needs_background": "light"
     },
     "output_type": "display_data"
    }
   ],
   "source": [
    "recorte = df['Email'].str.split('@').str[1]\n",
    "recorte.value_counts().plot(kind='bar')"
   ]
  }
 ],
 "metadata": {
  "kernelspec": {
   "display_name": "Python 3",
   "language": "python",
   "name": "python3"
  },
  "language_info": {
   "codemirror_mode": {
    "name": "ipython",
    "version": 3
   },
   "file_extension": ".py",
   "mimetype": "text/x-python",
   "name": "python",
   "nbconvert_exporter": "python",
   "pygments_lexer": "ipython3",
   "version": "3.7.0"
  }
 },
 "nbformat": 4,
 "nbformat_minor": 2
}
