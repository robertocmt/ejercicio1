{
 "cells": [
  {
   "cell_type": "code",
   "execution_count": 133,
   "metadata": {},
   "outputs": [],
   "source": [
    "import pandas as pd\n",
    "import matplotlib.pyplot as plt\n",
    "import seaborn as sns\n",
    "from faker import Faker\n",
    "fake = Faker('es_ES')\n",
    "df = pd.DataFrame(\n",
    "    columns = ('Nombre','Apellidos','Email','Telefono', 'Direccion')\n",
    ")\n",
    "for i in range(25):\n",
    "    stuff = [fake.first_name()\n",
    "        , fake.last_name()\n",
    "        , fake.free_email_domain()\n",
    "        , fake.phone_number()\n",
    "        , fake.street_name()]\n",
    "    df.loc[i] = [item for item in stuff]"
   ]
  },
  {
   "cell_type": "code",
   "execution_count": 134,
   "metadata": {},
   "outputs": [
    {
     "name": "stdout",
     "output_type": "stream",
     "text": [
      "            Nombre  Apellidos        Email          Telefono  \\\n",
      "0     Miguel Ángel  Montalbán    yahoo.com      +34606616107   \n",
      "1          Lourdes       Daza    yahoo.com      +34770378094   \n",
      "2         Milagros     Donoso    gmail.com      +34463915059   \n",
      "3            Julio     Nevado    gmail.com    +34211 646 368   \n",
      "4          Manuela    Cánovas    yahoo.com  +34 280 02 44 84   \n",
      "5    Victor Manuel      Garay    gmail.com     +34 377073122   \n",
      "6            Felix     Aguiló  hotmail.com     +34 391404775   \n",
      "7        Alejandro      Pablo  hotmail.com   +34 390 486 108   \n",
      "8            Jordi    Alemany    yahoo.com    +34249 113 648   \n",
      "9            Josep     Piquer  hotmail.com  +34 510 65 20 40   \n",
      "10            Joan   Mosquera  hotmail.com  +34 748 48 99 93   \n",
      "11            Sara      Rojas    gmail.com    +34065 744 180   \n",
      "12          Sandra  Alcántara    gmail.com  +34 448 73 75 71   \n",
      "13            Rosa    Llabrés    yahoo.com      +34490931215   \n",
      "14           Lidia      Nadal    gmail.com   +34804 68 79 97   \n",
      "15            Sara    Bertrán    yahoo.com   +34 523 007 335   \n",
      "16           Julio     Amores    gmail.com     +34 573848758   \n",
      "17          Lorena     Aguado    gmail.com   +34 160 209 229   \n",
      "18         Ignacio    Rosales  hotmail.com     +34 830854374   \n",
      "19         Mohamed     Agullo    yahoo.com      +34756664126   \n",
      "20       Francisco    Llorens    gmail.com  +34 903 65 21 67   \n",
      "21          Xavier   Busquets    gmail.com   +34107 33 48 18   \n",
      "22        Milagros  Hernandez  hotmail.com  +34 157 61 81 11   \n",
      "23  Jose Francisco    Anglada    yahoo.com      +34420754155   \n",
      "24          Alicia     Conesa    gmail.com   +34 340 640 649   \n",
      "\n",
      "                           Direccion  \n",
      "0                C. de Blanca Asenjo  \n",
      "1              Alameda Gloria Barros  \n",
      "2   Alameda de Encarnacion Valcárcel  \n",
      "3              Paseo de Mireia Gallo  \n",
      "4             Alameda de Fátima Rios  \n",
      "5               Callejón Vanesa Soto  \n",
      "6               Rambla Hector Guzmán  \n",
      "7             Vial de Albert Jiménez  \n",
      "8                    C. Sofia Pareja  \n",
      "9                C. Alejandra Barros  \n",
      "10                 C. Nuria Zabaleta  \n",
      "11              Rambla Vanesa Espada  \n",
      "12               C. de Elisa Perales  \n",
      "13  Pasaje de Francisco Javier Plaza  \n",
      "14            Pasaje Mariano Escrivá  \n",
      "15         Alameda de Alfredo Conesa  \n",
      "16             Vial de Sofia Pomares  \n",
      "17           Vial de Cristina Suárez  \n",
      "18            Plaza de Elisa Maestre  \n",
      "19          Pasadizo de Daniel Olivé  \n",
      "20           Avenida Domingo Baquero  \n",
      "21                  C. Lidia Estrada  \n",
      "22             Ronda Agustín Pereira  \n",
      "23     Pasaje de Juan Carlos Urrutia  \n",
      "24         Calle de Antonia Salvador  \n"
     ]
    }
   ],
   "source": [
    "df['Email'].str.split('@').str[1]\n",
    "print(df)"
   ]
  },
  {
   "cell_type": "code",
   "execution_count": 135,
   "metadata": {},
   "outputs": [
    {
     "data": {
      "text/plain": [
       "<matplotlib.axes._subplots.AxesSubplot at 0x7ff5e7d7a0f0>"
      ]
     },
     "execution_count": 135,
     "metadata": {},
     "output_type": "execute_result"
    },
    {
     "data": {
      "image/png": "[encoded data removed]",
      "text/plain": [
       "<Figure size 432x288 with 1 Axes>"
      ]
     },
     "metadata": {
      "needs_background": "light"
     },
     "output_type": "display_data"
    }
   ],
   "source": [
    "df.groupby('Email')['Email'].count().plot(kind='bar',legend='Reverse')"
   ]
  },
  {
   "cell_type": "code",
   "execution_count": null,
   "metadata": {},
   "outputs": [],
   "source": []
  }
 ],
 "metadata": {
  "kernelspec": {
   "display_name": "Python 3",
   "language": "python",
   "name": "python3"
  },
  "language_info": {
   "codemirror_mode": {
    "name": "ipython",
    "version": 3
   },
   "file_extension": ".py",
   "mimetype": "text/x-python",
   "name": "python",
   "nbconvert_exporter": "python",
   "pygments_lexer": "ipython3",
   "version": "3.7.0"
  }
 },
 "nbformat": 4,
 "nbformat_minor": 2
}
